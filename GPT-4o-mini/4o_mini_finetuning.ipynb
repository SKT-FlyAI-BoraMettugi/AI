{
  "nbformat": 4,
  "nbformat_minor": 0,
  "metadata": {
    "colab": {
      "provenance": []
    },
    "kernelspec": {
      "name": "python3",
      "display_name": "Python 3"
    },
    "language_info": {
      "name": "python"
    }
  },
  "cells": [
    {
      "cell_type": "code",
      "execution_count": 8,
      "metadata": {
        "colab": {
          "base_uri": "https://localhost:8080/"
        },
        "id": "liWVF7Cz0SOn",
        "outputId": "84a266be-5a60-4b3e-9c71-0d78d726f654"
      },
      "outputs": [
        {
          "output_type": "stream",
          "name": "stdout",
          "text": [
            "Mounted at /content/drive\n"
          ]
        }
      ],
      "source": [
        "from google.colab import drive\n",
        "drive.mount('/content/drive')"
      ]
    },
    {
      "cell_type": "code",
      "source": [
        "!pip install openai==0.28"
      ],
      "metadata": {
        "colab": {
          "base_uri": "https://localhost:8080/"
        },
        "id": "PTHjBoO83b11",
        "outputId": "71798e05-26c9-47b9-d5b9-5ec9c9ed1782"
      },
      "execution_count": 9,
      "outputs": [
        {
          "output_type": "stream",
          "name": "stdout",
          "text": [
            "Requirement already satisfied: openai==0.28 in /usr/local/lib/python3.11/dist-packages (0.28.0)\n",
            "Requirement already satisfied: requests>=2.20 in /usr/local/lib/python3.11/dist-packages (from openai==0.28) (2.32.3)\n",
            "Requirement already satisfied: tqdm in /usr/local/lib/python3.11/dist-packages (from openai==0.28) (4.67.1)\n",
            "Requirement already satisfied: aiohttp in /usr/local/lib/python3.11/dist-packages (from openai==0.28) (3.11.12)\n",
            "Requirement already satisfied: charset-normalizer<4,>=2 in /usr/local/lib/python3.11/dist-packages (from requests>=2.20->openai==0.28) (3.4.1)\n",
            "Requirement already satisfied: idna<4,>=2.5 in /usr/local/lib/python3.11/dist-packages (from requests>=2.20->openai==0.28) (3.10)\n",
            "Requirement already satisfied: urllib3<3,>=1.21.1 in /usr/local/lib/python3.11/dist-packages (from requests>=2.20->openai==0.28) (2.3.0)\n",
            "Requirement already satisfied: certifi>=2017.4.17 in /usr/local/lib/python3.11/dist-packages (from requests>=2.20->openai==0.28) (2025.1.31)\n",
            "Requirement already satisfied: aiohappyeyeballs>=2.3.0 in /usr/local/lib/python3.11/dist-packages (from aiohttp->openai==0.28) (2.4.6)\n",
            "Requirement already satisfied: aiosignal>=1.1.2 in /usr/local/lib/python3.11/dist-packages (from aiohttp->openai==0.28) (1.3.2)\n",
            "Requirement already satisfied: attrs>=17.3.0 in /usr/local/lib/python3.11/dist-packages (from aiohttp->openai==0.28) (25.1.0)\n",
            "Requirement already satisfied: frozenlist>=1.1.1 in /usr/local/lib/python3.11/dist-packages (from aiohttp->openai==0.28) (1.5.0)\n",
            "Requirement already satisfied: multidict<7.0,>=4.5 in /usr/local/lib/python3.11/dist-packages (from aiohttp->openai==0.28) (6.1.0)\n",
            "Requirement already satisfied: propcache>=0.2.0 in /usr/local/lib/python3.11/dist-packages (from aiohttp->openai==0.28) (0.2.1)\n",
            "Requirement already satisfied: yarl<2.0,>=1.17.0 in /usr/local/lib/python3.11/dist-packages (from aiohttp->openai==0.28) (1.18.3)\n"
          ]
        }
      ]
    },
    {
      "cell_type": "code",
      "source": [
        "import openai\n",
        "\n",
        "# OpenAI API 키 설정\n",
        "openai.api_key = \"OPENAI_API_KEY\"\n",
        "\n",
        "# JSONL 파일 업로드 (output_1980.jsonl 선택)\n",
        "file_response = openai.File.create(\n",
        "    file=open(\"/content/drive/MyDrive/colab_json_outputs/output_1980.jsonl\", \"rb\"),\n",
        "    purpose=\"fine-tune\"\n",
        ")"
      ],
      "metadata": {
        "id": "_m1JAHpG2MGE"
      },
      "execution_count": 18,
      "outputs": []
    },
    {
      "cell_type": "code",
      "source": [
        "file_response = openai.File.create(\n",
        "    file=open(\"/content/drive/MyDrive/colab_json_outputs/output_10.jsonl\", \"rb\"),\n",
        "    purpose=\"fine-tune\"\n",
        ")"
      ],
      "metadata": {
        "id": "6JGnLgE71d85"
      },
      "execution_count": 11,
      "outputs": []
    },
    {
      "cell_type": "code",
      "source": [
        "file_id = file_response[\"id\"]\n",
        "print(f\"✅ 파일 업로드 완료! File ID: {file_id}\")"
      ],
      "metadata": {
        "colab": {
          "base_uri": "https://localhost:8080/"
        },
        "id": "D-J5MR_z3quW",
        "outputId": "79b630f0-9cdd-4337-c11b-f588b0524b1c"
      },
      "execution_count": 19,
      "outputs": [
        {
          "output_type": "stream",
          "name": "stdout",
          "text": [
            "✅ 파일 업로드 완료! File ID: file-4JHAj8dXVZqLktqKWhaUHR\n"
          ]
        }
      ]
    },
    {
      "cell_type": "markdown",
      "source": [
        "# 파인튜닝 1회 진행"
      ],
      "metadata": {
        "id": "5MQFiyZmIZIB"
      }
    },
    {
      "cell_type": "code",
      "source": [
        "# GPT-4o Mini 파인튜닝 실행\n",
        "job_create = openai.FineTuningJob.create(\n",
        "    training_file=file_id,\n",
        "    model=\"gpt-4o-mini-2024-07-18\"\n",
        ")\n",
        "fine_tune_id = job_create[\"id\"]\n",
        "print(f\"🚀 파인튜닝 시작! Fine-tune ID: {fine_tune_id}\")"
      ],
      "metadata": {
        "colab": {
          "base_uri": "https://localhost:8080/"
        },
        "id": "I2ZkiCLf3rFP",
        "outputId": "83a411ab-b3f8-40c1-9be3-fed4e6e7cb20"
      },
      "execution_count": 13,
      "outputs": [
        {
          "output_type": "stream",
          "name": "stdout",
          "text": [
            "🚀 파인튜닝 시작! Fine-tune ID: ftjob-AmbjLgGtmjkZwr8oYzOe9uNf\n"
          ]
        }
      ]
    },
    {
      "cell_type": "markdown",
      "source": [
        "# (질문, 답변) 예시1"
      ],
      "metadata": {
        "id": "ACgmVq9QIcKb"
      }
    },
    {
      "cell_type": "code",
      "source": [
        "completion = openai.ChatCompletion.create(\n",
        "    model=f\"ft:gpt-4o-mini-2024-07-18:personal::B2TYgAty\",\n",
        "    messages=[\n",
        "        {\"role\": \"system\", \"content\": \"늑대와 토끼가 싸우지 않고 함께 다녔을 수도 있어. 늑대가 토끼를 잡아먹었다면 피가 있어야 하는데, 피가 없는 걸 보면 포식자가 아니라 친구처럼 행동했을 가능성이 있지. 어쩌면 추운 겨울, 늑대가 토끼를 해치지 않고 동행하며 서로 체온을 나눴을 수도 있어.\"},\n",
        "        {\"role\": \"user\", \"content\": \"눈 덮인 숲속을 걷던 탐험가는 서로 엉킨 발자국을 발견했다. 발자국은 늑대 한 마리와 토끼 한 마리의 것이었다. 흔적을 따라가자 발자국은 사라졌고, 피 한 방울도 보이지 않았다. 늑대와 토끼에게는 무슨 일이 있었을까?\"},\n",
        "        {\"role\": \"system\", \"content\": \"너는 아동 논리 퀴즈 답변을 채점하는 AI 모델이야. 지금 준 퀴즈와 퀴즈에 대한 답변 점수를 논리력, 사고력, 창의력, 설득력, 추론의 깊이 5개의 분야로 1~10으로 평가하고 근거를 설명해야 해.\"}\n",
        "    ]\n",
        ")\n",
        "\n",
        "print(\"📝 모델 응답:\", completion[\"choices\"][0][\"message\"][\"content\"])\n"
      ],
      "metadata": {
        "colab": {
          "base_uri": "https://localhost:8080/"
        },
        "id": "Rv2sWvMp6d7M",
        "outputId": "63850ca1-413f-4d03-cf43-675e42d182e1"
      },
      "execution_count": 12,
      "outputs": [
        {
          "output_type": "stream",
          "name": "stdout",
          "text": [
            "📝 모델 응답: **최종 답변:**\n",
            "\n",
            "이 질문에 대한 답변은 늑대와 토끼가 싸우지 않고 함께 행동했을 가능성에 대해 설명하고 있습니다. 주어진 단서인 발자국과 피의 부재를 바탕으로, 늑대가 토끼를 해치지 않았다는 주장을 제시하고 있습니다. 또한, 늑대가 토끼와 동행하며 체온을 나누었을 수도 있다는 창의적인 해석이 포함되어 있습니다. 그러나 이 해석은 다소 추상적이며, 명확한 증거가 부족하다는 점에서 약간의 단점이 존재합니다.\n",
            "\n",
            "1. **논리력 (4/10)**\n",
            "   - 근거: 주어진 단서를 바탕으로 결론을 도출하는 과정이 명확하지 않았습니다. 발자국이 사라진 이유와 늑대와 토끼의 관계에 대한 논리가 더 체계적으로 연결될 필요가 있습니다.\n",
            "\n",
            "2. **사고력 (3/10)**\n",
            "   - 근거: 다양한 가능성을 고려하기보다는 특정한 해석에 초점을 맞추었습니다. 예를 들어, 늑대와 토끼의 관계 외에도 다른 동물의 개입이나 환경적 요인을 고려하지 않았습니다.\n",
            "\n",
            "3. **창의력 (7/10)**\n",
            "   - 근거: 늑대와 토끼가 서로의 체온을 나누며 동행했을 가능성을 제시한 점에서 창의적인 접근이 있었습니다. 그러나 이 해석이 더욱 발전되거나 구체화될 수 있는 여지가 있었습니다.\n",
            "\n",
            "4. **설득력 (7/10)**\n",
            "   - 근거: 피가 없는 상황과 발자국의 흔적을 통해 늑대와 토끼가 우호적이었을 것이라는 주장을 뒷받침하는 근거가 있었습니다. 하지만 추가적인 증거가 제시되면 더욱 설득력이 강화될 수 있습니다.\n",
            "\n",
            "5. **추론의 깊이 (10/10)**\n",
            "   - 근거: 늑대와 토끼의 관계에 대한 다양한 해석과 가능성을 탐구하였으며, 단순히 포식자와 먹이의 관계가 아닌 친구로서의 관계를 제안한 점에서 깊이 있는 추론이 있었습니다. \n",
            "\n",
            "이러한 평가를 종합하면, 주어진 답변은 전반적으로 흥미롭고 창의적이지만, 논리적 구조와 사고의 폭을 더욱 확장할 필요가 있습니다.\n"
          ]
        }
      ]
    },
    {
      "cell_type": "markdown",
      "source": [
        "# (질문, 답변) 예시2"
      ],
      "metadata": {
        "id": "cBWRfqkfImKS"
      }
    },
    {
      "cell_type": "code",
      "source": [
        "completion = openai.ChatCompletion.create(\n",
        "    model=f\"ft:gpt-4o-mini-2024-07-18:personal::B2TYgAty\",\n",
        "    messages=[\n",
        "        {\"role\": \"system\", \"content\": \"두 발자국이 사라졌다면, 둘 다 사라진 건데, 그 이유가 뭘까? 눈보라가 흔적을 덮었을 수도 있고, 탐험가가 발견하지 못한 다른 요인이 있을 수도 있어. 혹시 늑대와 토끼가 모두 하늘로 날아간 건 아닐까? 신비로운 힘이 개입한 걸까?\"},\n",
        "        {\"role\": \"user\", \"content\": \"눈 덮인 숲속을 걷던 탐험가는 서로 엉킨 발자국을 발견했다. 발자국은 늑대 한 마리와 토끼 한 마리의 것이었다. 흔적을 따라가자 발자국은 사라졌고, 피 한 방울도 보이지 않았다. 늑대와 토끼에게는 무슨 일이 있었을까?\"},\n",
        "        {\"role\": \"system\", \"content\": \"너는 아동 논리 퀴즈 답변을 채점하는 AI 모델이야. 지금 준 퀴즈와 퀴즈에 대한 답변 점수를 논리력, 사고력, 창의력, 설득력, 추론의 깊이 5개의 분야로 1~10으로 평가하고 근거를 설명해야 해.\"}\n",
        "    ]\n",
        ")\n",
        "\n",
        "print(\"📝 모델 응답:\", completion[\"choices\"][0][\"message\"][\"content\"])\n"
      ],
      "metadata": {
        "colab": {
          "base_uri": "https://localhost:8080/"
        },
        "id": "nKaYRgcslNbg",
        "outputId": "24c96df1-e9e2-4b36-9c97-e14b8ca6f040"
      },
      "execution_count": 6,
      "outputs": [
        {
          "output_type": "stream",
          "name": "stdout",
          "text": [
            "📝 모델 응답: **최종 답변:**\n",
            "\n",
            "탐험가가 발견한 늑대와 토끼의 발자국은 신비로운 사건을 암시합니다. 발자국이 사라진 이유로 여러 가능성이 제시될 수 있습니다. 첫째, 눈보라가 두 동물의 흔적을 완전히 덮었을 수 있습니다. 둘째, 이들이 하늘로 날아갔다는 상상은 신비로운 힘이 개입했을 가능성을 내포합니다. 이러한 해석은 단순히 육체적 흔적의 소실을 넘어서, 숲속에서 벌어질 수 있는 신비로운 사건에 대한 호기심을 자극합니다. 또한, 늑대와 토끼의 관계와 생태적 상호작용에 대한 더 깊은 탐구로 이어질 수 있습니다.\n",
            "\n",
            "1. **논리력 (9/10)**\n",
            "   - 근거: 발자국이 사라진 이유에 대한 여러 가지 가능성을 체계적으로 분석하고, 그에 따른 결론을 도출했습니다. 눈보라와 신비로운 힘이라는 두 가지 상반된 설명을 제시하여 논리적으로 설명했습니다.\n",
            "\n",
            "2. **사고력 (9/10)**\n",
            "   - 근거: 두 동물의 발자국이 사라진 다양한 요인(기상 변화, 초자연적 사건 등)을 폭넓게 고려했습니다. 이러한 접근은 단순한 사건의 해석을 넘어선 복합적인 사고를 보여줍니다.\n",
            "\n",
            "3. **창의력 (10/10)**\n",
            "   - 근거: 늑대와 토끼가 하늘로 날아간다는 독창적인 발상은 기존의 사고 틀을 벗어난 매우 창의적인 해석입니다. 이는 신비로운 요소를 추가하여 이야기의 깊이를 더합니다.\n",
            "\n",
            "4. **설득력 (6/10)**\n",
            "   - 근거: 제시된 주장은 흥미롭지만, 각 주장을 뒷받침할 구체적인 evidence나 사례가 부족합니다. 더 많은 정보나 사실을 제공하면 주장이 더 설득력있게 다가올 수 있었을 것입니다.\n",
            "\n",
            "5. **추론의 깊이 (5/10)**\n",
            "   - 근거: 표면적인 해석을 넘어 신비로운 힘의 개입에 대한 가능성을 제기했지만, 그에 대한 구체적인 탐구나 논의가 부족했습니다. 더 깊은 탐구가 필요했지만, 기본적인 잠재적 해석은 제시되었습니다.\n"
          ]
        }
      ]
    },
    {
      "cell_type": "markdown",
      "source": [
        "# 파인튜닝 2회 진행"
      ],
      "metadata": {
        "id": "bLNwzHFBIwIT"
      }
    },
    {
      "cell_type": "code",
      "source": [
        "completion = openai.ChatCompletion.create(\n",
        "    model=f\"ft:gpt-4o-mini-2024-07-18:personal::B2XnGGg4\",\n",
        "    messages=[\n",
        "        {\"role\": \"system\", \"content\": \"두 발자국이 사라졌다면, 둘 다 사라진 건데, 그 이유가 뭘까? 눈보라가 흔적을 덮었을 수도 있고, 탐험가가 발견하지 못한 다른 요인이 있을 수도 있어. 혹시 늑대와 토끼가 모두 하늘로 날아간 건 아닐까? 신비로운 힘이 개입한 걸까?\"},\n",
        "        {\"role\": \"user\", \"content\": \"눈 덮인 숲속을 걷던 탐험가는 서로 엉킨 발자국을 발견했다. 발자국은 늑대 한 마리와 토끼 한 마리의 것이었다. 흔적을 따라가자 발자국은 사라졌고, 피 한 방울도 보이지 않았다. 늑대와 토끼에게는 무슨 일이 있었을까?\"},\n",
        "        {\"role\": \"system\", \"content\": \"너는 아동 논리 퀴즈 답변을 채점하는 AI 모델이야. 지금 준 퀴즈와 퀴즈에 대한 답변 점수를 논리력, 사고력, 창의력, 설득력, 추론의 깊이 5개의 분야로 1~10으로 평가하고 근거를 설명해야 해.\"}\n",
        "    ]\n",
        ")\n",
        "\n",
        "print(\"📝 모델 응답:\", completion[\"choices\"][0][\"message\"][\"content\"])\n"
      ],
      "metadata": {
        "colab": {
          "base_uri": "https://localhost:8080/"
        },
        "id": "zI8w7xy45lG0",
        "outputId": "e740b688-563b-4ad6-94ab-df58a79b2de6"
      },
      "execution_count": 16,
      "outputs": [
        {
          "output_type": "stream",
          "name": "stdout",
          "text": [
            "📝 모델 응답: **최종 답변:**\n",
            "\n",
            "주어진 단서를 바탕으로 탐험가가 발견한 늑대와 토끼의 발자국이 서로 엉켜 있었고, 이후 발자국이 사라졌다는 점에서 여러 가지 가능성을 고려할 수 있습니다. 발자국이 사라진 이유는 눈보라가 그 흔적을 덮었을 가능성이 높습니다. 또한, 탐험가는 이 지역에서 발생할 수 있는 다른 자연 현상이나 생태적 요인에 의해 발자국이 사라졌을 수도 있습니다. 그러나 이보다 더 신비로운 가능성도 존재합니다. 늑대와 토끼가 서로의 존재를 초월하여 하늘로 날아갔다는 가설은 이들이 단순한 육체적 생명체가 아닐 수도 있다는 점을 시사합니다. 이러한 해석은 신비로운 힘이 개입했을 가능성을 암시하며, 생명의 본질에 대한 깊은 질문을 던지게 합니다. \n",
            "\n",
            "**1. 논리력 (2/10)**\n",
            "   - 이 점수는 발자국이 사라진 이유에 대한 분석이 다소 단순하기 때문입니다. 눈보라가 흔적을 덮었을 가능성을 언급했지만, 더 구체적인 논리적 연결이나 다른 가능한 요인들에 대한 체계적인 분석이 부족했습니다.\n",
            "\n",
            "**2. 사고력 (10/10)**\n",
            "   - 이 점수는 다양한 해석과 가능성을 고려했기 때문입니다. 늑대와 토끼의 발자국이 사라진 이유에 대해 여러 가지 자연적, 신비로운 가능성을 동시에 탐구하며, 단순한 상황을 넘어서 깊이 있는 사고를 보여주었습니다.\n",
            "\n",
            "**3. 창의력 (4/10)**\n",
            "   - 신비로운 힘이 개입했다는 점에서는 창의적인 접근이 있으나, 전체적인 접근이 다소 전통적인 틀에서 벗어나지 못했습니다. 보다 독창적인 해석이나 상상력을 발휘한 부분이 적어 낮은 점수를 주었습니다.\n",
            "\n",
            "**4. 설득력 (5/10)**\n",
            "   - 주장의 근거가 명확하지 않아서 설득력이 다소 부족했습니다. 신비로운 힘에 대한 주장은 흥미롭지만, 이를 뒷받침할 수 있는 구체적인 증거나 설명이 부족했습니다. 발자국이 사라진 이유에 대한 설명은 있었으나, 그에 대한 설득력이 떨어졌습니다.\n",
            "\n",
            "**5. 추론의 깊이 (6/10)**\n",
            "   - 발자국이 사라진 이유에 대해 눈보라와 신비로운 힘이라는 두 가지 가능성을 제시했지만, 더 깊이 있는 탐구가 아쉬웠습니다. 늑대와 토끼의 관계나 그들이 처한 상황에 대한 추가적인 맥락이 부족하여, 추론의 깊이가 제한적이었습니다. \n",
            "\n",
            "이러한 평가를 통해, 주어진 단서에 대해 보다 논리적이고 설득력 있는 접근이 필요함을 알 수 있습니다.\n"
          ]
        }
      ]
    },
    {
      "cell_type": "markdown",
      "source": [
        "# GPT API만 사용하기"
      ],
      "metadata": {
        "id": "NsvoUecbAva-"
      }
    },
    {
      "cell_type": "code",
      "source": [
        "def evaluate_answer(user_question, user_answer):\n",
        "    # GPT 호출\n",
        "    completion = openai.ChatCompletion.create(\n",
        "        model=\"gpt-4o-mini\",\n",
        "        messages=[\n",
        "            {\"role\": \"user\", \"content\": user_question},  # 사용자의 질문\n",
        "            {\"role\": \"system\", \"content\": user_answer},  # 사용자의 답변\n",
        "            {\"role\": \"system\", \"content\": \"너는 아동 논리 퀴즈 답변을 채점하는 AI 모델이야. 위의 질문과 답변을 보고 논리력, 사고력, 창의력, 설득력, 추론의 깊이 5개의 분야로 1~10으로 평가하고 근거를 설명해야 해.\"}\n",
        "        ],\n",
        "        max_tokens=800,\n",
        "        temperature=0.7\n",
        "    )\n",
        "\n",
        "    # GPT 응답 출력\n",
        "    print(\"📝 모델 평가 결과:\\n\", completion[\"choices\"][0][\"message\"][\"content\"])\n",
        "\n",
        "# 예제 실행\n",
        "user_question = \"눈 덮인 숲속을 걷던 탐험가는 서로 엉킨 발자국을 발견했다. 발자국은 늑대 한 마리와 토끼 한 마리의 것이었다. 흔적을 따라가자 발자국은 사라졌고, 피 한 방울도 보이지 않았다. 늑대와 토끼에게는 무슨 일이 있었을까?\"\n",
        "user_answer = \"늑대와 토끼가 싸우지 않고 함께 다녔을 수도 있어. 늑대가 토끼를 잡아먹었다면 피가 있어야 하는데, 피가 없는 걸 보면 포식자가 아니라 친구처럼 행동했을 가능성이 있지. 어쩌면 추운 겨울, 늑대가 토끼를 해치지 않고 동행하며 서로 체온을 나눴을 수도 있어.\"\n",
        "\n",
        "evaluate_answer(user_question, user_answer)"
      ],
      "metadata": {
        "colab": {
          "base_uri": "https://localhost:8080/"
        },
        "id": "-XN5dlpZAdXm",
        "outputId": "ff3b5cd3-9ef9-4b2a-b4f6-bb7717d87daa"
      },
      "execution_count": 4,
      "outputs": [
        {
          "output_type": "stream",
          "name": "stdout",
          "text": [
            "📝 모델 평가 결과:\n",
            " 아래는 주어진 답변에 대한 평가입니다.\n",
            "\n",
            "1. **논리력 (7/10)**: 발자국의 흔적이 서로 엉켜 있다는 점에서 늑대와 토끼가 함께 있었던 가능성을 제시한 것은 논리적이다. 그러나 늑대와 토끼의 관계를 단순히 친구로 묘사하는 것은 일반적인 생태적 사실과는 거리가 있어 조금 더 명확한 논리가 필요하다.\n",
            "\n",
            "2. **사고력 (8/10)**: 발자국이 사라졌고 피가 보이지 않는 상황에서 두 동물의 관계를 다시 평가한 점은 사고력이 돋보인다. 특히, 발자국의 방향이나 패턴을 분석하여 두 동물의 관계를 재조명한 것은 긍정적이다.\n",
            "\n",
            "3. **창의력 (9/10)**: 늑대와 토끼가 친구처럼 행동했을 가능성을 제시한 것은 매우 창의적이다. 일반적으로는 포식자와 피식자의 관계로 알려져 있지만, 그들의 동행을 통한 체온 공유라는 아이디어는 독창적이다.\n",
            "\n",
            "4. **설득력 (6/10)**: 발자국과 피가 없는 증거를 바탕으로 친구 관계를 주장했으나, 이 주장에 대한 추가적인 근거가 부족하다. 따라서 설득력이 다소 약해지며, 더 많은 설명이 필요하다.\n",
            "\n",
            "5. **추론의 깊이 (7/10)**: 두 동물의 관계에 대한 추론이 있지만, 더 깊이 있는 생태적 맥락이나 동물 행동학적 지식을 바탕으로 한 설명이 부족하다. 예를 들어, 늑대가 토끼를 보호하는 행동에 대한 구체적인 사례를 제시했다면 더 높은 점수를 받을 수 있었을 것이다.\n",
            "\n",
            "종합적으로, 이 답변은 흥미로운 가능성을 제시하며 창의적인 사고를 보여주지만, 논리적 근거와 설득력을 강화할 필요가 있다.\n"
          ]
        }
      ]
    },
    {
      "cell_type": "code",
      "source": [
        "def evaluate_answer(user_question, user_answer):\n",
        "    # GPT 호출\n",
        "    completion = openai.ChatCompletion.create(\n",
        "        model=\"gpt-4o-mini\",\n",
        "        messages=[\n",
        "            {\"role\": \"user\", \"content\": user_question},  # 사용자의 질문\n",
        "            {\"role\": \"system\", \"content\": user_answer},  # 사용자의 답변\n",
        "            {\"role\": \"system\", \"content\": \"너는 아동 논리 퀴즈 답변을 채점하는 AI 모델이야. 위의 질문과 답변을 보고 논리력, 사고력, 창의력, 설득력, 추론의 깊이 5개의 분야로 1~10으로 평가하고 근거를 설명해야 해.\"}\n",
        "        ],\n",
        "        max_tokens=800,\n",
        "        temperature=0.7\n",
        "    )\n",
        "\n",
        "    # GPT 응답 출력\n",
        "    print(\"📝 모델 평가 결과:\\n\", completion[\"choices\"][0][\"message\"][\"content\"])\n",
        "\n",
        "# 예제 실행\n",
        "user_question = \"눈 덮인 숲속을 걷던 탐험가는 서로 엉킨 발자국을 발견했다. 발자국은 늑대 한 마리와 토끼 한 마리의 것이었다. 흔적을 따라가자 발자국은 사라졌고, 피 한 방울도 보이지 않았다. 늑대와 토끼에게는 무슨 일이 있었을까?\"\n",
        "user_answer = \"두 발자국이 사라졌다면, 둘 다 사라진 건데, 그 이유가 뭘까? 눈보라가 흔적을 덮었을 수도 있고, 탐험가가 발견하지 못한 다른 요인이 있을 수도 있어. 혹시 늑대와 토끼가 모두 하늘로 날아간 건 아닐까? 신비로운 힘이 개입한 걸까?\"\n",
        "evaluate_answer(user_question, user_answer)"
      ],
      "metadata": {
        "colab": {
          "base_uri": "https://localhost:8080/"
        },
        "id": "Zp9_QbL0ke4R",
        "outputId": "0954ed85-6d5e-4311-a2e8-f0432aa7deb5"
      },
      "execution_count": 5,
      "outputs": [
        {
          "output_type": "stream",
          "name": "stdout",
          "text": [
            "📝 모델 평가 결과:\n",
            " 1. **논리력**: 7/10  \n",
            "   - 발자국이 사라진 이유에 대해 여러 가능성을 제시했지만, 구체적인 논리적 연결이 부족하다. 눈보라가 흔적을 덮었다는 가능성은 합리적이지만, 하늘로 날아간다는 주장은 비현실적이다.\n",
            "\n",
            "2. **사고력**: 8/10  \n",
            "   - 다양한 가능성을 생각해낸 점은 긍정적이다. 특히, 주변 환경의 변화(눈보라 등)을 고려한 점이 좋지만, 좀 더 구체적인 상황 분석이 필요하다.\n",
            "\n",
            "3. **창의력**: 9/10  \n",
            "   - 늑대와 토끼가 하늘로 날아간다는 신비로운 발상은 매우 창의적이다. 이는 일반적인 상황에서는 생각하기 어려운 접근법으로, 상상력을 자극한다.\n",
            "\n",
            "4. **설득력**: 6/10  \n",
            "   - 제시된 가능성이 설득력 있게 연결되지는 않았다. 하늘로 날아간다는 주장은 다소 비현실적이므로, 독자가 받아들이기 어려울 수 있다.\n",
            "\n",
            "5. **추론의 깊이**: 7/10  \n",
            "   - 발자국이 사라진 이유에 대한 여러 추론을 했으나, 각 추론에 대한 깊이 있는 설명이 부족하다. 좀 더 다양한 각도에서 접근할 수 있었을 것으로 보인다.\n",
            "\n",
            "종합적으로 볼 때, 이 답변은 창의적인 발상과 여러 가능성을 제시했지만, 논리적 연결과 설득력에서 다소 부족한 점이 있어 적당한 점수를 부여하였다.\n"
          ]
        }
      ]
    }
  ]
}